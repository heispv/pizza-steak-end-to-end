{
 "cells": [
  {
   "cell_type": "code",
   "execution_count": 1,
   "metadata": {},
   "outputs": [],
   "source": [
    "import os"
   ]
  },
  {
   "cell_type": "code",
   "execution_count": 2,
   "metadata": {},
   "outputs": [
    {
     "data": {
      "text/plain": [
       "'h:\\\\Projects\\\\mlops\\\\first\\\\pizza-steak-end-to-end\\\\research'"
      ]
     },
     "execution_count": 2,
     "metadata": {},
     "output_type": "execute_result"
    }
   ],
   "source": [
    "%pwd"
   ]
  },
  {
   "cell_type": "code",
   "execution_count": 3,
   "metadata": {},
   "outputs": [],
   "source": [
    "os.chdir('../')"
   ]
  },
  {
   "cell_type": "code",
   "execution_count": 4,
   "metadata": {},
   "outputs": [
    {
     "data": {
      "text/plain": [
       "'h:\\\\Projects\\\\mlops\\\\first\\\\pizza-steak-end-to-end'"
      ]
     },
     "execution_count": 4,
     "metadata": {},
     "output_type": "execute_result"
    }
   ],
   "source": [
    "%pwd"
   ]
  },
  {
   "cell_type": "code",
   "execution_count": 5,
   "metadata": {},
   "outputs": [],
   "source": [
    "from dataclasses import dataclass\n",
    "from pathlib import Path\n",
    "\n",
    "@dataclass(frozen=True)\n",
    "class PrepareCallbackConfig:\n",
    "    root_dir: Path\n",
    "    tensorboard_log_dir: Path\n",
    "    checkpoint_dir: Path\n",
    "\n"
   ]
  },
  {
   "cell_type": "code",
   "execution_count": 6,
   "metadata": {},
   "outputs": [],
   "source": [
    "from PizzaSteakClassifier.constants import *\n",
    "from PizzaSteakClassifier.utils.common import read_yaml_file, create_directories"
   ]
  },
  {
   "cell_type": "code",
   "execution_count": 7,
   "metadata": {},
   "outputs": [],
   "source": [
    "class ConfiguationManager:\n",
    "    def __init__(self,\n",
    "                 config_path: Path = CONFIG_FILE_PATH):\n",
    "        \n",
    "        self.config = read_yaml_file(config_path)\n",
    "        create_directories([self.config.artifacts_root])\n",
    "    \n",
    "    def get_prepare_callback_config(self) -> PrepareCallbackConfig:\n",
    "        config = self.config\n",
    "\n",
    "        create_directories([\n",
    "            Path(config.prepare_callbacks.tensorboard_log_dir),\n",
    "            Path(config.prepare_callbacks.checkpoint_dir)\n",
    "        ])\n",
    "\n",
    "        prepare_callback_config = PrepareCallbackConfig(\n",
    "            root_dir = Path(config.artifacts_root),\n",
    "            tensorboard_log_dir = Path(config.prepare_callbacks.tensorboard_log_dir),\n",
    "            checkpoint_dir = Path(config.prepare_callbacks.checkpoint_dir)\n",
    "        )\n",
    "\n",
    "        return prepare_callback_config\n",
    "    \n"
   ]
  },
  {
   "cell_type": "code",
   "execution_count": 8,
   "metadata": {},
   "outputs": [
    {
     "name": "stdout",
     "output_type": "stream",
     "text": [
      "[2024-01-04 20:29:35,629 - WARNING - module_wrapper - From h:\\Projects\\mlops\\first\\pizza-steak-end-to-end\\.venv\\Lib\\site-packages\\keras\\src\\losses.py:2976: The name tf.losses.sparse_softmax_cross_entropy is deprecated. Please use tf.compat.v1.losses.sparse_softmax_cross_entropy instead.\n",
      "]\n"
     ]
    }
   ],
   "source": [
    "import tensorflow as tf\n",
    "import time"
   ]
  },
  {
   "cell_type": "code",
   "execution_count": 9,
   "metadata": {},
   "outputs": [
    {
     "data": {
      "text/plain": [
       "pathlib.WindowsPath"
      ]
     },
     "execution_count": 9,
     "metadata": {},
     "output_type": "execute_result"
    }
   ],
   "source": [
    "type(CONFIG_FILE_PATH)"
   ]
  },
  {
   "cell_type": "code",
   "execution_count": 10,
   "metadata": {},
   "outputs": [
    {
     "data": {
      "text/plain": [
       "str"
      ]
     },
     "execution_count": 10,
     "metadata": {},
     "output_type": "execute_result"
    }
   ],
   "source": [
    "type(os.path.join(CONFIG_FILE_PATH, \"hello\"))"
   ]
  },
  {
   "cell_type": "code",
   "execution_count": 13,
   "metadata": {},
   "outputs": [],
   "source": [
    "class PrepareCallback:\n",
    "    def __init__(self, config: PrepareCallbackConfig):\n",
    "        self.config = config\n",
    "    \n",
    "    @property\n",
    "    def create_tb_callback(self):\n",
    "        timestamp = time.strftime(\"%Y%m%d-%H%M%S\")\n",
    "        tb_running_log_dir = os.path.join(\n",
    "            self.config.tensorboard_log_dir,\n",
    "            f\"tb_logs_{timestamp}\"\n",
    "        )\n",
    "        return tf.keras.callbacks.TensorBoard(log_dir=tb_running_log_dir)\n",
    "    \n",
    "    @property\n",
    "    def create_ckpt_callback(self):\n",
    "        return tf.keras.callbacks.ModelCheckpoint(\n",
    "            filepath=str(self.config.checkpoint_dir), #str is required for ModelCheckpoint\n",
    "            save_best_only=True\n",
    "        )\n",
    "    \n",
    "    def get_tb_ckpt_callbacks(self):\n",
    "        return [\n",
    "                self.create_tb_callback,\n",
    "                self.create_ckpt_callback\n",
    "        ]"
   ]
  },
  {
   "cell_type": "code",
   "execution_count": 14,
   "metadata": {},
   "outputs": [
    {
     "name": "stdout",
     "output_type": "stream",
     "text": [
      "[2024-01-04 20:50:17,527 - INFO - common - YAML file loaded successfully: config\\config.yaml]\n",
      "[2024-01-04 20:50:17,529 - INFO - common - Directory created: artifacts]\n",
      "[2024-01-04 20:50:17,531 - INFO - common - Directory created: artifacts\\prepare_callbacks\\tensorboard_logs]\n",
      "[2024-01-04 20:50:17,533 - INFO - common - Directory created: artifacts\\prepare_callbacks\\checkpoint_dir\\model.h5]\n"
     ]
    }
   ],
   "source": [
    "try:\n",
    "    config=ConfiguationManager()\n",
    "    prepare_callback_config = config.get_prepare_callback_config()\n",
    "    prepare_callbacks = PrepareCallback(config=prepare_callback_config)\n",
    "    callback_list = prepare_callbacks.get_tb_ckpt_callbacks()\n",
    "    \n",
    "except Exception as e:\n",
    "    raise e\n"
   ]
  }
 ],
 "metadata": {
  "kernelspec": {
   "display_name": ".venv",
   "language": "python",
   "name": "python3"
  },
  "language_info": {
   "codemirror_mode": {
    "name": "ipython",
    "version": 3
   },
   "file_extension": ".py",
   "mimetype": "text/x-python",
   "name": "python",
   "nbconvert_exporter": "python",
   "pygments_lexer": "ipython3",
   "version": "3.11.4"
  }
 },
 "nbformat": 4,
 "nbformat_minor": 2
}
