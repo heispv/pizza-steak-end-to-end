{
 "cells": [
  {
   "cell_type": "code",
   "execution_count": 1,
   "metadata": {},
   "outputs": [],
   "source": [
    "import os"
   ]
  },
  {
   "cell_type": "code",
   "execution_count": 2,
   "metadata": {},
   "outputs": [
    {
     "data": {
      "text/plain": [
       "'h:\\\\Projects\\\\mlops\\\\first\\\\pizza-steak-end-to-end\\\\research'"
      ]
     },
     "execution_count": 2,
     "metadata": {},
     "output_type": "execute_result"
    }
   ],
   "source": [
    "%pwd"
   ]
  },
  {
   "cell_type": "code",
   "execution_count": 3,
   "metadata": {},
   "outputs": [],
   "source": [
    "os.chdir(\"../\")"
   ]
  },
  {
   "cell_type": "code",
   "execution_count": 4,
   "metadata": {},
   "outputs": [
    {
     "data": {
      "text/plain": [
       "'h:\\\\Projects\\\\mlops\\\\first\\\\pizza-steak-end-to-end'"
      ]
     },
     "execution_count": 4,
     "metadata": {},
     "output_type": "execute_result"
    }
   ],
   "source": [
    "%pwd"
   ]
  },
  {
   "cell_type": "code",
   "execution_count": 5,
   "metadata": {},
   "outputs": [],
   "source": [
    "from dataclasses import dataclass\n",
    "from pathlib import Path\n",
    "\n",
    "@dataclass(frozen=True)\n",
    "class TrainingConfig:\n",
    "    root_dir: Path\n",
    "    trained_model_path: Path\n",
    "    update_base_model_path: Path\n",
    "    training_data: Path\n",
    "    params_epoch: int\n",
    "    params_batch_size: int\n",
    "    params_image_size: list\n",
    "    params_validation_split: float\n",
    "\n",
    "@dataclass(frozen=True)\n",
    "class PrepareCallbackConfig:\n",
    "    root_dir: Path\n",
    "    tensorboard_log_dir: Path\n",
    "    checkpoint_dir: Path"
   ]
  },
  {
   "cell_type": "code",
   "execution_count": 6,
   "metadata": {},
   "outputs": [
    {
     "name": "stdout",
     "output_type": "stream",
     "text": [
      "[2024-01-13 15:04:19,552 - WARNING - module_wrapper - From h:\\Projects\\mlops\\first\\pizza-steak-end-to-end\\.venv\\Lib\\site-packages\\keras\\src\\losses.py:2976: The name tf.losses.sparse_softmax_cross_entropy is deprecated. Please use tf.compat.v1.losses.sparse_softmax_cross_entropy instead.\n",
      "]\n"
     ]
    }
   ],
   "source": [
    "from PizzaSteakClassifier.constants import *\n",
    "from PizzaSteakClassifier.utils.common import read_yaml_file, create_directories\n",
    "import tensorflow as tf"
   ]
  },
  {
   "cell_type": "code",
   "execution_count": 7,
   "metadata": {},
   "outputs": [],
   "source": [
    "class ConfigurationManager:\n",
    "    def __init__(\n",
    "            self,\n",
    "            config_file_path = CONFIG_FILE_PATH,\n",
    "            params_file_path = PARAMS_FILE_PATH):\n",
    "        \n",
    "        self.config = read_yaml_file(config_file_path)\n",
    "        self.params = read_yaml_file(params_file_path)\n",
    "\n",
    "        create_directories([self.config.artifacts_root])\n",
    "\n",
    "\n",
    "    def get_prepare_callback_config(self) -> PrepareCallbackConfig:\n",
    "        config = self.config\n",
    "\n",
    "        create_directories([\n",
    "            Path(config.prepare_callbacks.tensorboard_log_dir),\n",
    "            Path(config.prepare_callbacks.checkpoint_dir)\n",
    "        ])\n",
    "\n",
    "        prepare_callback_config = PrepareCallbackConfig(\n",
    "            root_dir = Path(config.artifacts_root),\n",
    "            tensorboard_log_dir = Path(config.prepare_callbacks.tensorboard_log_dir),\n",
    "            checkpoint_dir = Path(config.prepare_callbacks.checkpoint_dir)\n",
    "        )\n",
    "\n",
    "        return prepare_callback_config\n",
    "    \n",
    "    def get_training_config(self) -> TrainingConfig:\n",
    "        training = self.config.model_training\n",
    "        params = self.params\n",
    "        base_model_preparation = self.config.base_model_preparation\n",
    "        training_dir = os.path.join(self.config.data_ingestion.unzip_dir)\n",
    "\n",
    "        create_directories([training.root_dir])\n",
    "\n",
    "        training_config = TrainingConfig(\n",
    "            root_dir=Path(training.root_dir),\n",
    "            trained_model_path=Path(training.trained_model_path),\n",
    "            update_base_model_path=Path(base_model_preparation.updated_base_model_path),\n",
    "            training_data=Path(training_dir),\n",
    "            params_epoch=params.epochs,\n",
    "            params_batch_size=params.batch_size,\n",
    "            params_image_size=params.image_size,\n",
    "            params_validation_split=params.validation_split\n",
    "        )\n",
    "\n",
    "        return training_config"
   ]
  },
  {
   "cell_type": "code",
   "execution_count": 8,
   "metadata": {},
   "outputs": [],
   "source": [
    "import time\n"
   ]
  },
  {
   "cell_type": "code",
   "execution_count": null,
   "metadata": {},
   "outputs": [],
   "source": []
  },
  {
   "cell_type": "code",
   "execution_count": 9,
   "metadata": {},
   "outputs": [],
   "source": [
    "class PrepareCallback:\n",
    "    def __init__(self, config: PrepareCallbackConfig):\n",
    "        self.config = config\n",
    "    \n",
    "    @property\n",
    "    def create_tb_callback(self):\n",
    "        timestamp = time.strftime(\"%Y%m%d-%H%M%S\")\n",
    "        tb_running_log_dir = os.path.join(\n",
    "            self.config.tensorboard_log_dir,\n",
    "            f\"tb_logs_{timestamp}\"\n",
    "        )\n",
    "        return tf.keras.callbacks.TensorBoard(log_dir=tb_running_log_dir)\n",
    "    \n",
    "    @property\n",
    "    def create_ckpt_callback(self):\n",
    "        return tf.keras.callbacks.ModelCheckpoint(\n",
    "            filepath=str(self.config.checkpoint_dir), #str is required for ModelCheckpoint\n",
    "            save_best_only=True\n",
    "        )\n",
    "    \n",
    "    def get_tb_ckpt_callbacks(self):\n",
    "        return [\n",
    "                self.create_tb_callback,\n",
    "                self.create_ckpt_callback\n",
    "        ]"
   ]
  },
  {
   "cell_type": "code",
   "execution_count": 10,
   "metadata": {},
   "outputs": [],
   "source": [
    "class Training:\n",
    "    def __init__(self, config: TrainingConfig):\n",
    "        self.config = config\n",
    "    \n",
    "    def get_base_model(self):\n",
    "        self.model = tf.keras.models.load_model(\n",
    "            self.config.update_base_model_path\n",
    "        )\n",
    "    \n",
    "    def data_preparation(self):\n",
    "        config = self.config\n",
    "\n",
    "        train_dataset = tf.keras.utils.image_dataset_from_directory(\n",
    "            str(config.training_data),\n",
    "            validation_split=config.params_validation_split,\n",
    "            subset=\"training\",\n",
    "            seed=123,\n",
    "            image_size=config.params_image_size[:-1],\n",
    "            batch_size=config.params_batch_size\n",
    "        )\n",
    "\n",
    "        validation_dataset = tf.keras.utils.image_dataset_from_directory(\n",
    "            str(config.training_data),\n",
    "            validation_split=config.params_validation_split,\n",
    "            subset=\"validation\",\n",
    "            seed=123,\n",
    "            image_size=config.params_image_size[:-1],\n",
    "            batch_size=config.params_batch_size\n",
    "        )\n",
    "\n",
    "        val_batches = tf.data.experimental.cardinality(validation_dataset)\n",
    "        test_dataset = validation_dataset.take(val_batches // 5)\n",
    "        validation_dataset = validation_dataset.skip(val_batches // 5)\n",
    "\n",
    "        AUTOTUNE = tf.data.AUTOTUNE\n",
    "\n",
    "        self.train_dataset = train_dataset.prefetch(buffer_size=AUTOTUNE)\n",
    "        self.validation_dataset = validation_dataset.prefetch(buffer_size=AUTOTUNE)\n",
    "        self.test_dataset = test_dataset.prefetch(buffer_size=AUTOTUNE)\n",
    "\n",
    "    @staticmethod\n",
    "    def save_model(model: tf.keras.Model, model_path: Path):\n",
    "        model.save(model_path)\n",
    "    \n",
    "    def train(self, callback_list: list):\n",
    "        self.model.fit(\n",
    "            self.train_dataset,\n",
    "            epochs=self.config.params_epoch,\n",
    "            validation_data=self.validation_dataset,\n",
    "            callbacks = callback_list\n",
    "        )\n",
    "\n",
    "        self.save_model(\n",
    "            model = self.model,\n",
    "            model_path = self.config.trained_model_path\n",
    "        )"
   ]
  },
  {
   "cell_type": "code",
   "execution_count": 11,
   "metadata": {},
   "outputs": [
    {
     "name": "stdout",
     "output_type": "stream",
     "text": [
      "2.15.0\n"
     ]
    }
   ],
   "source": [
    "print(tf.__version__)"
   ]
  },
  {
   "cell_type": "code",
   "execution_count": 12,
   "metadata": {},
   "outputs": [
    {
     "name": "stdout",
     "output_type": "stream",
     "text": [
      "[2024-01-13 15:04:30,527 - INFO - common - YAML file loaded successfully: config\\config.yaml]\n",
      "[2024-01-13 15:04:30,530 - INFO - common - YAML file loaded successfully: params.yaml]\n",
      "[2024-01-13 15:04:30,532 - INFO - common - Directory created: artifacts]\n",
      "[2024-01-13 15:04:30,533 - INFO - common - Directory created: artifacts\\prepare_callbacks\\tensorboard_logs]\n",
      "[2024-01-13 15:04:30,535 - INFO - common - Directory created: artifacts\\prepare_callbacks\\checkpoint_dir]\n",
      "[2024-01-13 15:04:30,538 - INFO - common - Directory created: artifacts/model_training]\n",
      "[2024-01-13 15:04:30,804 - WARNING - module_wrapper - From h:\\Projects\\mlops\\first\\pizza-steak-end-to-end\\.venv\\Lib\\site-packages\\keras\\src\\backend.py:1398: The name tf.executing_eagerly_outside_functions is deprecated. Please use tf.compat.v1.executing_eagerly_outside_functions instead.\n",
      "]\n",
      "[2024-01-13 15:04:31,247 - WARNING - module_wrapper - From h:\\Projects\\mlops\\first\\pizza-steak-end-to-end\\.venv\\Lib\\site-packages\\keras\\src\\layers\\normalization\\batch_normalization.py:979: The name tf.nn.fused_batch_norm is deprecated. Please use tf.compat.v1.nn.fused_batch_norm instead.\n",
      "]\n",
      "Found 2000 files belonging to 2 classes.\n",
      "Using 1600 files for training.\n",
      "Found 2000 files belonging to 2 classes.\n",
      "Using 400 files for validation.\n",
      "Epoch 1/10\n",
      "[2024-01-13 15:04:35,085 - WARNING - module_wrapper - From h:\\Projects\\mlops\\first\\pizza-steak-end-to-end\\.venv\\Lib\\site-packages\\keras\\src\\utils\\tf_utils.py:492: The name tf.ragged.RaggedTensorValue is deprecated. Please use tf.compat.v1.ragged.RaggedTensorValue instead.\n",
      "]\n",
      "100/100 [==============================] - ETA: 0s - loss: 0.2619 - accuracy: 0.8906[2024-01-13 15:05:12,586 - INFO - builder_impl - Assets written to: artifacts\\prepare_callbacks\\checkpoint_dir\\assets]\n",
      "100/100 [==============================] - 40s 352ms/step - loss: 0.2619 - accuracy: 0.8906 - val_loss: 0.0958 - val_accuracy: 0.9719\n",
      "Epoch 2/10\n",
      "100/100 [==============================] - ETA: 0s - loss: 0.1338 - accuracy: 0.9594[2024-01-13 15:05:43,680 - INFO - builder_impl - Assets written to: artifacts\\prepare_callbacks\\checkpoint_dir\\assets]\n",
      "100/100 [==============================] - 31s 306ms/step - loss: 0.1338 - accuracy: 0.9594 - val_loss: 0.0819 - val_accuracy: 0.9781\n",
      "Epoch 3/10\n",
      "100/100 [==============================] - ETA: 0s - loss: 0.0986 - accuracy: 0.9706[2024-01-13 15:06:13,962 - INFO - builder_impl - Assets written to: artifacts\\prepare_callbacks\\checkpoint_dir\\assets]\n",
      "100/100 [==============================] - 30s 304ms/step - loss: 0.0986 - accuracy: 0.9706 - val_loss: 0.0777 - val_accuracy: 0.9719\n",
      "Epoch 4/10\n",
      "100/100 [==============================] - 15s 148ms/step - loss: 0.0901 - accuracy: 0.9663 - val_loss: 0.0811 - val_accuracy: 0.9594\n",
      "Epoch 5/10\n",
      "100/100 [==============================] - 15s 148ms/step - loss: 0.0989 - accuracy: 0.9650 - val_loss: 0.0826 - val_accuracy: 0.9563\n",
      "Epoch 6/10\n",
      "100/100 [==============================] - ETA: 0s - loss: 0.0869 - accuracy: 0.9706[2024-01-13 15:07:13,919 - INFO - builder_impl - Assets written to: artifacts\\prepare_callbacks\\checkpoint_dir\\assets]\n",
      "100/100 [==============================] - 30s 305ms/step - loss: 0.0869 - accuracy: 0.9706 - val_loss: 0.0673 - val_accuracy: 0.9719\n",
      "Epoch 7/10\n",
      "100/100 [==============================] - 15s 149ms/step - loss: 0.0841 - accuracy: 0.9681 - val_loss: 0.0694 - val_accuracy: 0.9688\n",
      "Epoch 8/10\n",
      "100/100 [==============================] - 16s 159ms/step - loss: 0.0800 - accuracy: 0.9769 - val_loss: 0.0683 - val_accuracy: 0.9719\n",
      "Epoch 9/10\n",
      "100/100 [==============================] - ETA: 0s - loss: 0.0686 - accuracy: 0.9750[2024-01-13 15:08:17,075 - INFO - builder_impl - Assets written to: artifacts\\prepare_callbacks\\checkpoint_dir\\assets]\n",
      "100/100 [==============================] - 32s 320ms/step - loss: 0.0686 - accuracy: 0.9750 - val_loss: 0.0649 - val_accuracy: 0.9750\n",
      "Epoch 10/10\n",
      "100/100 [==============================] - ETA: 0s - loss: 0.0691 - accuracy: 0.9744[2024-01-13 15:08:47,805 - INFO - builder_impl - Assets written to: artifacts\\prepare_callbacks\\checkpoint_dir\\assets]\n",
      "100/100 [==============================] - 31s 308ms/step - loss: 0.0691 - accuracy: 0.9744 - val_loss: 0.0647 - val_accuracy: 0.9719\n"
     ]
    },
    {
     "name": "stderr",
     "output_type": "stream",
     "text": [
      "h:\\Projects\\mlops\\first\\pizza-steak-end-to-end\\.venv\\Lib\\site-packages\\keras\\src\\engine\\training.py:3103: UserWarning: You are saving your model as an HDF5 file via `model.save()`. This file format is considered legacy. We recommend using instead the native Keras format, e.g. `model.save('my_model.keras')`.\n",
      "  saving_api.save_model(\n"
     ]
    }
   ],
   "source": [
    "try:\n",
    "    config=ConfigurationManager()\n",
    "    prepare_callback_config = config.get_prepare_callback_config()\n",
    "    prepare_callbacks = PrepareCallback(config=prepare_callback_config)\n",
    "    callback_list = prepare_callbacks.get_tb_ckpt_callbacks()\n",
    "    \n",
    "    training_config = config.get_training_config()\n",
    "    training = Training(config=training_config)\n",
    "    training.get_base_model()\n",
    "    training.data_preparation()\n",
    "    training.train(callback_list=callback_list)\n",
    "    \n",
    "except Exception as e:\n",
    "    raise e\n"
   ]
  },
  {
   "cell_type": "code",
   "execution_count": null,
   "metadata": {},
   "outputs": [],
   "source": []
  },
  {
   "cell_type": "code",
   "execution_count": null,
   "metadata": {},
   "outputs": [],
   "source": []
  }
 ],
 "metadata": {
  "kernelspec": {
   "display_name": ".venv",
   "language": "python",
   "name": "python3"
  },
  "language_info": {
   "codemirror_mode": {
    "name": "ipython",
    "version": 3
   },
   "file_extension": ".py",
   "mimetype": "text/x-python",
   "name": "python",
   "nbconvert_exporter": "python",
   "pygments_lexer": "ipython3",
   "version": "3.11.4"
  }
 },
 "nbformat": 4,
 "nbformat_minor": 2
}
