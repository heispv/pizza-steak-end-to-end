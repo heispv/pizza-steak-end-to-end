{
 "cells": [
  {
   "cell_type": "code",
   "execution_count": 1,
   "metadata": {},
   "outputs": [],
   "source": [
    "import os"
   ]
  },
  {
   "cell_type": "code",
   "execution_count": 2,
   "metadata": {},
   "outputs": [
    {
     "data": {
      "text/plain": [
       "'h:\\\\Projects\\\\mlops\\\\first\\\\pizza-steak-end-to-end\\\\research'"
      ]
     },
     "execution_count": 2,
     "metadata": {},
     "output_type": "execute_result"
    }
   ],
   "source": [
    "%pwd"
   ]
  },
  {
   "cell_type": "code",
   "execution_count": 3,
   "metadata": {},
   "outputs": [],
   "source": [
    "os.chdir('../')"
   ]
  },
  {
   "cell_type": "code",
   "execution_count": 4,
   "metadata": {},
   "outputs": [
    {
     "data": {
      "text/plain": [
       "'h:\\\\Projects\\\\mlops\\\\first\\\\pizza-steak-end-to-end'"
      ]
     },
     "execution_count": 4,
     "metadata": {},
     "output_type": "execute_result"
    }
   ],
   "source": [
    "%pwd"
   ]
  },
  {
   "cell_type": "code",
   "execution_count": 5,
   "metadata": {},
   "outputs": [],
   "source": [
    "from dataclasses import dataclass\n",
    "from pathlib import Path\n",
    "\n",
    "@dataclass(frozen=True)\n",
    "class PrepareBaseModelConfig:\n",
    "    root_dir: Path\n",
    "    base_model_path: Path\n",
    "    updated_base_model_path: Path\n",
    "    data_dir: Path\n",
    "    params_image_size: list\n",
    "    params_learning_rate: float\n",
    "    params_include_top: bool\n",
    "    params_weights: str\n",
    "    params_classes: int\n",
    "    params_validation_split: float"
   ]
  },
  {
   "cell_type": "code",
   "execution_count": 6,
   "metadata": {},
   "outputs": [],
   "source": [
    "from PizzaSteakClassifier.constants import *\n",
    "from PizzaSteakClassifier.utils.common import read_yaml_file, create_directories\n"
   ]
  },
  {
   "cell_type": "code",
   "execution_count": 7,
   "metadata": {},
   "outputs": [
    {
     "name": "stdout",
     "output_type": "stream",
     "text": [
      "[2024-01-13 15:03:18,697 - INFO - common - YAML file loaded successfully: config\\config.yaml]\n"
     ]
    }
   ],
   "source": [
    "X = read_yaml_file(CONFIG_FILE_PATH)"
   ]
  },
  {
   "cell_type": "code",
   "execution_count": 8,
   "metadata": {},
   "outputs": [
    {
     "data": {
      "text/plain": [
       "'artifacts/base_model_preparation'"
      ]
     },
     "execution_count": 8,
     "metadata": {},
     "output_type": "execute_result"
    }
   ],
   "source": [
    "X.base_model_preparation.root_dir"
   ]
  },
  {
   "cell_type": "code",
   "execution_count": 9,
   "metadata": {},
   "outputs": [],
   "source": [
    "class ConfigurationManager:\n",
    "    def __init__(self,\n",
    "                 config_file_path = CONFIG_FILE_PATH,\n",
    "                 params_file_path = PARAMS_FILE_PATH):\n",
    "        \n",
    "        self.config = read_yaml_file(config_file_path)\n",
    "        self.params = read_yaml_file(params_file_path)\n",
    "\n",
    "        create_directories([self.config.artifacts_root])\n",
    "\n",
    "    def get_prepare_base_model_config(self) -> PrepareBaseModelConfig:\n",
    "        config = self.config.base_model_preparation\n",
    "        params = self.params\n",
    "\n",
    "        create_directories([config.root_dir])\n",
    "\n",
    "        prepare_base_model_config = PrepareBaseModelConfig(\n",
    "            root_dir = Path(config.root_dir),\n",
    "            base_model_path = Path(config.base_model_path),\n",
    "            updated_base_model_path = Path(config.updated_base_model_path),\n",
    "            data_dir = Path(self.config.data_ingestion.unzip_dir),\n",
    "            params_image_size = params.image_size,\n",
    "            params_learning_rate = params.learning_rate,\n",
    "            params_include_top = params.include_top,\n",
    "            params_weights = params.weights,\n",
    "            params_classes = params.classes,\n",
    "            params_validation_split=params.validation_split\n",
    "        )\n",
    "\n",
    "        return prepare_base_model_config"
   ]
  },
  {
   "cell_type": "code",
   "execution_count": 10,
   "metadata": {},
   "outputs": [
    {
     "name": "stdout",
     "output_type": "stream",
     "text": [
      "[2024-01-13 15:03:27,143 - WARNING - module_wrapper - From h:\\Projects\\mlops\\first\\pizza-steak-end-to-end\\.venv\\Lib\\site-packages\\keras\\src\\losses.py:2976: The name tf.losses.sparse_softmax_cross_entropy is deprecated. Please use tf.compat.v1.losses.sparse_softmax_cross_entropy instead.\n",
      "]\n"
     ]
    }
   ],
   "source": [
    "import os\n",
    "import urllib.request as request\n",
    "from zipfile import ZipFile\n",
    "import tensorflow as tf"
   ]
  },
  {
   "cell_type": "code",
   "execution_count": 11,
   "metadata": {},
   "outputs": [],
   "source": [
    "class PrepareBaseModel:\n",
    "    def __init__(self, config: PrepareBaseModelConfig):\n",
    "        self.config = config\n",
    "    \n",
    "    def download_base_model(self):\n",
    "        self.model = tf.keras.applications.MobileNetV2(input_shape=tuple(self.config.params_image_size),\n",
    "                                                       include_top=self.config.params_include_top,\n",
    "                                                       weights=self.config.params_weights)\n",
    "        self.save_base_model(path = self.config.base_model_path,\n",
    "                             model = self.model)\n",
    "    \n",
    "    \n",
    "    \n",
    "    def prepare_full_model(self):\n",
    "        base_model = self.model\n",
    "        base_model.trainable = False\n",
    "\n",
    "        data_augmentation = tf.keras.Sequential([\n",
    "        tf.keras.layers.RandomFlip('horizontal'),\n",
    "        tf.keras.layers.RandomRotation(0.2),\n",
    "        ])\n",
    "\n",
    "        preprocess_input = tf.keras.applications.mobilenet_v2.preprocess_input\n",
    "\n",
    "        # image_batch, label_batch = next(iter(self.train_dataset))\n",
    "        # feature_batch = base_model(image_batch)\n",
    "\n",
    "        global_average_layer = tf.keras.layers.GlobalAveragePooling2D()\n",
    "        # feature_batch_average = global_average_layer(feature_batch)\n",
    "\n",
    "        # rescale = tf.keras.layers.Rescaling(1./127.5, offset=-1)\n",
    "\n",
    "        prediction_layer = tf.keras.layers.Dense(1)\n",
    "        # prediction_batch = prediction_layer(feature_batch_average)\n",
    "\n",
    "        inputs = tf.keras.Input(shape=(160, 160, 3))\n",
    "        x = data_augmentation(inputs)\n",
    "        x = preprocess_input(x)\n",
    "        x = base_model(x, training=False)\n",
    "        x = global_average_layer(x)\n",
    "        x = tf.keras.layers.Dropout(0.2)(x)\n",
    "        outputs = prediction_layer(x)\n",
    "        full_model = tf.keras.Model(inputs, outputs)\n",
    "\n",
    "        full_model.compile(\n",
    "            optimizer=tf.keras.optimizers.Adam(learning_rate=self.config.params_learning_rate),\n",
    "            loss=tf.keras.losses.BinaryCrossentropy(from_logits=True),\n",
    "            metrics=[tf.keras.metrics.BinaryAccuracy(threshold=0, name='accuracy')]\n",
    "        )\n",
    "\n",
    "        full_model.summary()\n",
    "\n",
    "        return full_model\n",
    "    \n",
    "    @staticmethod\n",
    "    def save_base_model(path: Path, model: tf.keras.models.Model):\n",
    "        model.save(path)\n",
    "    \n",
    "    def update_base_model(self):\n",
    "        self.full_model = self.prepare_full_model()\n",
    "        self.save_base_model(path = self.config.updated_base_model_path,\n",
    "                             model = self.full_model)\n"
   ]
  },
  {
   "cell_type": "code",
   "execution_count": 12,
   "metadata": {},
   "outputs": [
    {
     "name": "stdout",
     "output_type": "stream",
     "text": [
      "[2024-01-13 15:03:30,282 - INFO - common - YAML file loaded successfully: config\\config.yaml]\n",
      "[2024-01-13 15:03:30,286 - INFO - common - YAML file loaded successfully: params.yaml]\n",
      "[2024-01-13 15:03:30,288 - INFO - common - Directory created: artifacts]\n",
      "[2024-01-13 15:03:30,288 - INFO - common - Directory created: artifacts/base_model_preparation]\n",
      "[2024-01-13 15:03:30,546 - WARNING - module_wrapper - From h:\\Projects\\mlops\\first\\pizza-steak-end-to-end\\.venv\\Lib\\site-packages\\keras\\src\\backend.py:1398: The name tf.executing_eagerly_outside_functions is deprecated. Please use tf.compat.v1.executing_eagerly_outside_functions instead.\n",
      "]\n",
      "[2024-01-13 15:03:30,698 - WARNING - module_wrapper - From h:\\Projects\\mlops\\first\\pizza-steak-end-to-end\\.venv\\Lib\\site-packages\\keras\\src\\layers\\normalization\\batch_normalization.py:979: The name tf.nn.fused_batch_norm is deprecated. Please use tf.compat.v1.nn.fused_batch_norm instead.\n",
      "]\n",
      "Downloading data from https://storage.googleapis.com/tensorflow/keras-applications/mobilenet_v2/mobilenet_v2_weights_tf_dim_ordering_tf_kernels_1.0_160_no_top.h5\n",
      "9406464/9406464 [==============================] - 3s 0us/step\n",
      "[2024-01-13 15:03:35,216 - WARNING - saving_utils - Compiled the loaded model, but the compiled metrics have yet to be built. `model.compile_metrics` will be empty until you train or evaluate the model.]\n"
     ]
    },
    {
     "name": "stderr",
     "output_type": "stream",
     "text": [
      "h:\\Projects\\mlops\\first\\pizza-steak-end-to-end\\.venv\\Lib\\site-packages\\keras\\src\\engine\\training.py:3103: UserWarning: You are saving your model as an HDF5 file via `model.save()`. This file format is considered legacy. We recommend using instead the native Keras format, e.g. `model.save('my_model.keras')`.\n",
      "  saving_api.save_model(\n"
     ]
    },
    {
     "name": "stdout",
     "output_type": "stream",
     "text": [
      "Model: \"model\"\n",
      "_________________________________________________________________\n",
      " Layer (type)                Output Shape              Param #   \n",
      "=================================================================\n",
      " input_2 (InputLayer)        [(None, 160, 160, 3)]     0         \n",
      "                                                                 \n",
      " sequential (Sequential)     (None, 160, 160, 3)       0         \n",
      "                                                                 \n",
      " tf.math.truediv (TFOpLambd  (None, 160, 160, 3)       0         \n",
      " a)                                                              \n",
      "                                                                 \n",
      " tf.math.subtract (TFOpLamb  (None, 160, 160, 3)       0         \n",
      " da)                                                             \n",
      "                                                                 \n",
      " mobilenetv2_1.00_160 (Func  (None, 5, 5, 1280)        2257984   \n",
      " tional)                                                         \n",
      "                                                                 \n",
      " global_average_pooling2d (  (None, 1280)              0         \n",
      " GlobalAveragePooling2D)                                         \n",
      "                                                                 \n",
      " dropout (Dropout)           (None, 1280)              0         \n",
      "                                                                 \n",
      " dense (Dense)               (None, 1)                 1281      \n",
      "                                                                 \n",
      "=================================================================\n",
      "Total params: 2259265 (8.62 MB)\n",
      "Trainable params: 1281 (5.00 KB)\n",
      "Non-trainable params: 2257984 (8.61 MB)\n",
      "_________________________________________________________________\n"
     ]
    }
   ],
   "source": [
    "try:\n",
    "    config = ConfigurationManager()\n",
    "    prepare_base_model_config = config.get_prepare_base_model_config()\n",
    "    prepare_base_model = PrepareBaseModel(config=prepare_base_model_config)\n",
    "    prepare_base_model.download_base_model()\n",
    "    prepare_base_model.update_base_model()\n",
    "except Exception as e:\n",
    "    raise e"
   ]
  },
  {
   "cell_type": "code",
   "execution_count": null,
   "metadata": {},
   "outputs": [],
   "source": []
  },
  {
   "cell_type": "code",
   "execution_count": null,
   "metadata": {},
   "outputs": [],
   "source": []
  }
 ],
 "metadata": {
  "kernelspec": {
   "display_name": ".venv",
   "language": "python",
   "name": "python3"
  },
  "language_info": {
   "codemirror_mode": {
    "name": "ipython",
    "version": 3
   },
   "file_extension": ".py",
   "mimetype": "text/x-python",
   "name": "python",
   "nbconvert_exporter": "python",
   "pygments_lexer": "ipython3",
   "version": "3.11.4"
  }
 },
 "nbformat": 4,
 "nbformat_minor": 2
}
